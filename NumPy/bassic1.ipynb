{
 "cells": [
  {
   "cell_type": "markdown",
   "metadata": {},
   "source": [
    "IMPORT THƯ VIỆN VÀ KHỞI TẠO"
   ]
  },
  {
   "cell_type": "code",
   "execution_count": 4,
   "metadata": {},
   "outputs": [],
   "source": [
    "import numpy as np"
   ]
  },
  {
   "cell_type": "code",
   "execution_count": 5,
   "metadata": {},
   "outputs": [],
   "source": [
    "data1 = [6, 7.5, 8, 0, 1]"
   ]
  },
  {
   "cell_type": "code",
   "execution_count": 6,
   "metadata": {},
   "outputs": [],
   "source": [
    "arr1 = np.array(data1)\n"
   ]
  },
  {
   "cell_type": "code",
   "execution_count": 7,
   "metadata": {},
   "outputs": [
    {
     "data": {
      "text/plain": [
       "array([6. , 7.5, 8. , 0. , 1. ])"
      ]
     },
     "execution_count": 7,
     "metadata": {},
     "output_type": "execute_result"
    }
   ],
   "source": [
    "arr1"
   ]
  },
  {
   "cell_type": "markdown",
   "metadata": {},
   "source": [
    "MẢNG NHIỀU CHIỀU    "
   ]
  },
  {
   "cell_type": "code",
   "execution_count": 8,
   "metadata": {},
   "outputs": [],
   "source": [
    "data2 = [[1, 2, 3, 4], [5, 6, 7, 8]]"
   ]
  },
  {
   "cell_type": "code",
   "execution_count": 9,
   "metadata": {},
   "outputs": [],
   "source": [
    "arr2 = np.array(data2)"
   ]
  },
  {
   "cell_type": "code",
   "execution_count": 10,
   "metadata": {},
   "outputs": [
    {
     "data": {
      "text/plain": [
       "array([[1, 2, 3, 4],\n",
       "       [5, 6, 7, 8]])"
      ]
     },
     "execution_count": 10,
     "metadata": {},
     "output_type": "execute_result"
    }
   ],
   "source": [
    "arr2"
   ]
  },
  {
   "cell_type": "markdown",
   "metadata": {},
   "source": [
    "Kiểm tra số chiều của mảng (ndim):"
   ]
  },
  {
   "cell_type": "code",
   "execution_count": 11,
   "metadata": {},
   "outputs": [
    {
     "data": {
      "text/plain": [
       "2"
      ]
     },
     "execution_count": 11,
     "metadata": {},
     "output_type": "execute_result"
    }
   ],
   "source": [
    "arr2.ndim"
   ]
  },
  {
   "cell_type": "markdown",
   "metadata": {},
   "source": [
    "Kiểm tra hình dạng của mảng (shape):"
   ]
  },
  {
   "cell_type": "code",
   "execution_count": 12,
   "metadata": {},
   "outputs": [
    {
     "data": {
      "text/plain": [
       "(2, 4)"
      ]
     },
     "execution_count": 12,
     "metadata": {},
     "output_type": "execute_result"
    }
   ],
   "source": [
    "arr2.shape"
   ]
  },
  {
   "cell_type": "markdown",
   "metadata": {},
   "source": [
    "Kiểm tra kiểu dữ liệu của mảng (dtype)"
   ]
  },
  {
   "cell_type": "code",
   "execution_count": 13,
   "metadata": {},
   "outputs": [
    {
     "data": {
      "text/plain": [
       "dtype('float64')"
      ]
     },
     "execution_count": 13,
     "metadata": {},
     "output_type": "execute_result"
    }
   ],
   "source": [
    "arr1.dtype"
   ]
  },
  {
   "cell_type": "code",
   "execution_count": 14,
   "metadata": {},
   "outputs": [
    {
     "data": {
      "text/plain": [
       "dtype('int64')"
      ]
     },
     "execution_count": 14,
     "metadata": {},
     "output_type": "execute_result"
    }
   ],
   "source": [
    "arr2.dtype"
   ]
  },
  {
   "cell_type": "markdown",
   "metadata": {},
   "source": [
    "1./ Tạo ra các giá trị trong mảng đều bằng 0"
   ]
  },
  {
   "cell_type": "code",
   "execution_count": 15,
   "metadata": {},
   "outputs": [
    {
     "data": {
      "text/plain": [
       "array([0., 0., 0.])"
      ]
     },
     "execution_count": 15,
     "metadata": {},
     "output_type": "execute_result"
    }
   ],
   "source": [
    "np.zeros(3) #mảng 1 chiều"
   ]
  },
  {
   "cell_type": "code",
   "execution_count": 16,
   "metadata": {},
   "outputs": [
    {
     "data": {
      "text/plain": [
       "array([0., 0., 0.])"
      ]
     },
     "execution_count": 16,
     "metadata": {},
     "output_type": "execute_result"
    }
   ],
   "source": [
    "arr3 = np.zeros(3)\n",
    "arr3"
   ]
  },
  {
   "cell_type": "code",
   "execution_count": 17,
   "metadata": {},
   "outputs": [
    {
     "data": {
      "text/plain": [
       "array([[0., 0., 0.],\n",
       "       [0., 0., 0.],\n",
       "       [0., 0., 0.]])"
      ]
     },
     "execution_count": 17,
     "metadata": {},
     "output_type": "execute_result"
    }
   ],
   "source": [
    "arr4 = np.zeros((3,3)) #mảng ma trận\n",
    "arr4"
   ]
  },
  {
   "cell_type": "code",
   "execution_count": 18,
   "metadata": {},
   "outputs": [
    {
     "data": {
      "text/plain": [
       "dtype('float64')"
      ]
     },
     "execution_count": 18,
     "metadata": {},
     "output_type": "execute_result"
    }
   ],
   "source": [
    "#các giá trị ma trận đươc tạo ra đều là số thực\n",
    "arr4.dtype"
   ]
  },
  {
   "cell_type": "code",
   "execution_count": 19,
   "metadata": {},
   "outputs": [
    {
     "data": {
      "text/plain": [
       "array([[0, 0, 0],\n",
       "       [0, 0, 0],\n",
       "       [0, 0, 0]])"
      ]
     },
     "execution_count": 19,
     "metadata": {},
     "output_type": "execute_result"
    }
   ],
   "source": [
    "#muốn tạo ra mảng số nguyên thì phải làm thế nào?\n",
    "arr5 = np.zeros((3,3),dtype=np.int64)\n",
    "arr5"
   ]
  },
  {
   "cell_type": "code",
   "execution_count": 20,
   "metadata": {},
   "outputs": [
    {
     "data": {
      "text/plain": [
       "dtype('int64')"
      ]
     },
     "execution_count": 20,
     "metadata": {},
     "output_type": "execute_result"
    }
   ],
   "source": [
    "arr5.dtype"
   ]
  },
  {
   "cell_type": "markdown",
   "metadata": {},
   "source": [
    "2./ Tạo ra các giá trị trong mảng đều bằng 1"
   ]
  },
  {
   "cell_type": "code",
   "execution_count": 21,
   "metadata": {},
   "outputs": [
    {
     "data": {
      "text/plain": [
       "array([[1, 1, 1],\n",
       "       [1, 1, 1],\n",
       "       [1, 1, 1]])"
      ]
     },
     "execution_count": 21,
     "metadata": {},
     "output_type": "execute_result"
    }
   ],
   "source": [
    "arr6 = np.ones((3, 3), dtype=int) #dùng ones thông thường\n",
    "arr6"
   ]
  },
  {
   "cell_type": "code",
   "execution_count": 22,
   "metadata": {},
   "outputs": [
    {
     "name": "stdout",
     "output_type": "stream",
     "text": [
      "[[1 1 1]\n",
      " [1 1 1]]\n"
     ]
    }
   ],
   "source": [
    "arr = np.array([[2, 3, 4], [5, 6, 7]], dtype=int) #dùng ones nâng cao\n",
    "ones_like_arr = np.ones_like(arr)\n",
    "print(ones_like_arr)\n",
    "# nó sẽ dựa trên kích thức lẫn kiểu dữ liệu của mảng cũ\n"
   ]
  },
  {
   "cell_type": "markdown",
   "metadata": {},
   "source": [
    "3./ Tạo ra mảng đa chiều \n",
    "\n",
    "Ví dụ: mảng 3 chiều (2, 2, 3): Mảng có 2 khối, mỗi khối chứa mảng 2x3.\n",
    "Cấu trúc của mảng là 3 chiều, có 2 lớp (khối), mỗi khối có 2 hàng và 3 cột."
   ]
  },
  {
   "cell_type": "code",
   "execution_count": 23,
   "metadata": {},
   "outputs": [
    {
     "data": {
      "text/plain": [
       "array([[[1.16134441e-311, 2.47032823e-322, 0.00000000e+000],\n",
       "        [0.00000000e+000, 1.11260619e-306, 1.61590357e+184]],\n",
       "\n",
       "       [[6.50213787e-091, 4.01519977e-057, 4.29285741e-038],\n",
       "        [1.32737909e-075, 3.99910963e+252, 1.27092437e-075]]])"
      ]
     },
     "execution_count": 23,
     "metadata": {},
     "output_type": "execute_result"
    }
   ],
   "source": [
    "arr7 = np.empty((2,2,3))\n",
    "arr7"
   ]
  },
  {
   "cell_type": "code",
   "execution_count": 24,
   "metadata": {},
   "outputs": [
    {
     "data": {
      "text/plain": [
       "array([[[      2350587255480,                  50,                   0],\n",
       "        [                  0,   29555310641283072, 7362941623697827179]],\n",
       "\n",
       "       [[3257563988643296870, 3763096333153755956, 4047952346808397156],\n",
       "        [3486690349893826612, 8386112019185754417, 3486460349298013045]]])"
      ]
     },
     "execution_count": 24,
     "metadata": {},
     "output_type": "execute_result"
    }
   ],
   "source": [
    "arr8 = np.empty((2,2,3),dtype = int)\n",
    "arr8"
   ]
  },
  {
   "cell_type": "markdown",
   "metadata": {},
   "source": [
    "4./ HÀM RANGE\n"
   ]
  },
  {
   "cell_type": "markdown",
   "metadata": {},
   "source": [
    "4.1/ Dùng với dạng vòng lặp"
   ]
  },
  {
   "cell_type": "code",
   "execution_count": 25,
   "metadata": {},
   "outputs": [
    {
     "name": "stdout",
     "output_type": "stream",
     "text": [
      "1\n",
      "3\n",
      "5\n",
      "7\n",
      "9\n"
     ]
    }
   ],
   "source": [
    "for i in range(1, 10, 2):\n",
    "    print(i)\n",
    "#ví dụ in ra các số từ 1 đến sát 10 với bước nhảy là 2"
   ]
  },
  {
   "cell_type": "markdown",
   "metadata": {},
   "source": [
    "4.2/ Dùng dưới dạng list(range())."
   ]
  },
  {
   "cell_type": "code",
   "execution_count": 26,
   "metadata": {},
   "outputs": [
    {
     "name": "stdout",
     "output_type": "stream",
     "text": [
      "[0, 1, 2, 3, 4]\n"
     ]
    }
   ],
   "source": [
    "numbers = list(range(5))\n",
    "print(numbers)\n"
   ]
  },
  {
   "cell_type": "markdown",
   "metadata": {},
   "source": [
    "4.3/ Dùng với dạng mảng"
   ]
  },
  {
   "cell_type": "code",
   "execution_count": 27,
   "metadata": {},
   "outputs": [
    {
     "name": "stdout",
     "output_type": "stream",
     "text": [
      "[[ 0  1  2  3  4  5]\n",
      " [ 6  7  8  9 10 11]]\n"
     ]
    }
   ],
   "source": [
    "#ví dụ về mảng 2 chiều\n",
    "arr = np.arange(12).reshape(2, 6)\n",
    "print(arr)\n"
   ]
  },
  {
   "cell_type": "code",
   "execution_count": 28,
   "metadata": {},
   "outputs": [
    {
     "name": "stdout",
     "output_type": "stream",
     "text": [
      "[[[ 0  1  2  3]\n",
      "  [ 4  5  6  7]\n",
      "  [ 8  9 10 11]]\n",
      "\n",
      " [[12 13 14 15]\n",
      "  [16 17 18 19]\n",
      "  [20 21 22 23]]]\n"
     ]
    }
   ],
   "source": [
    "#ví dụ về mảng 3 chiều\n",
    "arr = np.arange(24).reshape(2, 3, 4)\n",
    "print(arr)\n"
   ]
  },
  {
   "cell_type": "markdown",
   "metadata": {},
   "source": [
    "6./ Phương thức astype():\n",
    "\n",
    "Ep kiểu các giá trị phần tử trong mảng này sang mảng khác\n",
    "+Không thay đổi mảng ban đầu mà tạo ra một bản sao mới với kiểu dữ liệu mới\n",
    "+Có thể làm mất mát dữ liệu. Ví dụ: float sang int"
   ]
  },
  {
   "cell_type": "markdown",
   "metadata": {},
   "source": [
    "6.1/ Chuyển mảng int sang float:"
   ]
  },
  {
   "cell_type": "code",
   "execution_count": 29,
   "metadata": {},
   "outputs": [
    {
     "name": "stdout",
     "output_type": "stream",
     "text": [
      "Mảng ban đầu: [1 2 3 4]\n",
      "Mảng sau khi chuyển thành số thực: [1. 2. 3. 4.]\n"
     ]
    }
   ],
   "source": [
    "arr = np.array([1, 2, 3, 4], dtype=np.int32)\n",
    "print(\"Mảng ban đầu:\", arr)\n",
    "\n",
    "arr_float = arr.astype(np.float64)\n",
    "print(\"Mảng sau khi chuyển thành số thực:\", arr_float)\n"
   ]
  },
  {
   "cell_type": "markdown",
   "metadata": {},
   "source": [
    "6.2/ Chuyển mảng float sang int:"
   ]
  },
  {
   "cell_type": "code",
   "execution_count": 30,
   "metadata": {},
   "outputs": [
    {
     "name": "stdout",
     "output_type": "stream",
     "text": [
      "Mảng ban đầu: [1.2 2.5 3.8 4. ]\n",
      "Mảng sau khi chuyển thành số nguyên: [1 2 3 4]\n"
     ]
    }
   ],
   "source": [
    "arr = np.array([1.2, 2.5, 3.8, 4.0], dtype=np.float64)\n",
    "print(\"Mảng ban đầu:\", arr)\n",
    "\n",
    "arr_int = arr.astype(np.int32)\n",
    "print(\"Mảng sau khi chuyển thành số nguyên:\", arr_int)"
   ]
  },
  {
   "cell_type": "markdown",
   "metadata": {},
   "source": [
    "6.3/ Chuyển kiểu dữ liệu sang boolean"
   ]
  },
  {
   "cell_type": "code",
   "execution_count": 31,
   "metadata": {},
   "outputs": [
    {
     "name": "stdout",
     "output_type": "stream",
     "text": [
      "[ True False  True False]\n"
     ]
    }
   ],
   "source": [
    "arr = np.array([1, 0, 3, 0])\n",
    "arr_bool = arr.astype(bool)\n",
    "print(arr_bool)\n"
   ]
  },
  {
   "cell_type": "markdown",
   "metadata": {},
   "source": [
    "\n",
    "OPERATIONS BETWEEN ARRAYS AND SCALARS- Các phép toán giữa Mảng và Số vô hướng\n"
   ]
  },
  {
   "cell_type": "markdown",
   "metadata": {},
   "source": [
    "1./ Phép cộng"
   ]
  },
  {
   "cell_type": "code",
   "execution_count": 32,
   "metadata": {},
   "outputs": [
    {
     "name": "stdout",
     "output_type": "stream",
     "text": [
      "[11 12 13 14]\n"
     ]
    }
   ],
   "source": [
    "arr = np.array([1, 2, 3, 4])\n",
    "result = arr + 10\n",
    "print(result)\n"
   ]
  },
  {
   "cell_type": "markdown",
   "metadata": {},
   "source": [
    "2./ Phép trừ -> nhân hoặc chia cũng tương tự"
   ]
  },
  {
   "cell_type": "code",
   "execution_count": 33,
   "metadata": {},
   "outputs": [
    {
     "name": "stdout",
     "output_type": "stream",
     "text": [
      "[-1  0  1  2]\n"
     ]
    }
   ],
   "source": [
    "result = arr - 2\n",
    "print(result)\n"
   ]
  },
  {
   "cell_type": "markdown",
   "metadata": {},
   "source": [
    "3./ Lũy thừa"
   ]
  },
  {
   "cell_type": "code",
   "execution_count": 34,
   "metadata": {},
   "outputs": [
    {
     "name": "stdout",
     "output_type": "stream",
     "text": [
      "[ 1  4  9 16]\n"
     ]
    }
   ],
   "source": [
    "result = arr ** 2\n",
    "print(result)\n"
   ]
  },
  {
   "cell_type": "markdown",
   "metadata": {},
   "source": [
    "4./ Đối với mảng nhiều chiều thì phép toán cũng thực hiện tương tự"
   ]
  },
  {
   "cell_type": "code",
   "execution_count": 35,
   "metadata": {},
   "outputs": [
    {
     "name": "stdout",
     "output_type": "stream",
     "text": [
      "[[11 12 13]\n",
      " [14 15 16]]\n"
     ]
    }
   ],
   "source": [
    "arr2d = np.array([[1, 2, 3], [4, 5, 6]])\n",
    "result = arr2d + 10\n",
    "print(result)\n"
   ]
  },
  {
   "cell_type": "markdown",
   "metadata": {},
   "source": [
    "BASIC INDEXING AND SLICING - THAO TÁC MẢNG BẰNG CHỈ MỤC"
   ]
  },
  {
   "cell_type": "markdown",
   "metadata": {},
   "source": [
    "1/LẤY RA GIÁ TRỊ CÁC PHẦN TỬ DỰA THEO CHỈ MỤC"
   ]
  },
  {
   "cell_type": "markdown",
   "metadata": {},
   "source": [
    "1.1/ Thao tác với mảng 1 chiều"
   ]
  },
  {
   "cell_type": "code",
   "execution_count": 36,
   "metadata": {},
   "outputs": [
    {
     "name": "stdout",
     "output_type": "stream",
     "text": [
      "10\n",
      "30\n",
      "50\n"
     ]
    }
   ],
   "source": [
    "arr = np.array([10, 20, 30, 40, 50])\n",
    "print(arr[0])  # Truy cập phần tử đầu tiên\n",
    "print(arr[2])  # Truy cập phần tử thứ 3\n",
    "print(arr[-1]) # Truy cập phần tử cuối cùng"
   ]
  },
  {
   "cell_type": "markdown",
   "metadata": {},
   "source": [
    "1.2/ Thao tác với mảng nhiều chiều"
   ]
  },
  {
   "cell_type": "code",
   "execution_count": 37,
   "metadata": {},
   "outputs": [
    {
     "name": "stdout",
     "output_type": "stream",
     "text": [
      "1\n",
      "6\n",
      "9\n"
     ]
    }
   ],
   "source": [
    "arr2d = np.array([[1, 2, 3], [4, 5, 6], [7, 8, 9]])\n",
    "print(arr2d[0, 0])  # Phần tử tại hàng 0, cột 0\n",
    "print(arr2d[1, 2])  # Phần tử tại hàng 1, cột 2\n",
    "print(arr2d[2, -1]) # Phần tử cuối cùng của hàng 2\n"
   ]
  },
  {
   "cell_type": "markdown",
   "metadata": {},
   "source": [
    "2./LẤY RA ĐOẠN PHẦN TỬ TRONG MẢNG"
   ]
  },
  {
   "cell_type": "markdown",
   "metadata": {},
   "source": [
    "2.1/ Slicing mảng 1 chiều:"
   ]
  },
  {
   "cell_type": "code",
   "execution_count": 38,
   "metadata": {},
   "outputs": [
    {
     "name": "stdout",
     "output_type": "stream",
     "text": [
      "[20 30 40]\n",
      "[10 20 30]\n",
      "[30 40 50]\n",
      "[10 30 50]\n"
     ]
    }
   ],
   "source": [
    "arr = np.array([10, 20, 30, 40, 50])\n",
    "print(arr[1:4])  # Lấy các phần tử từ chỉ số 1 đến 3\n",
    "print(arr[:3])   # Lấy các phần tử từ đầu đến chỉ số 2\n",
    "print(arr[2:])   # Lấy các phần tử từ chỉ số 2 đến hết\n",
    "print(arr[::2])  # Lấy các phần tử cách 2 phần tử một lần"
   ]
  },
  {
   "cell_type": "markdown",
   "metadata": {},
   "source": [
    "2.2/ Slicing mảng nhiều chiều:"
   ]
  },
  {
   "cell_type": "code",
   "execution_count": 39,
   "metadata": {},
   "outputs": [
    {
     "name": "stdout",
     "output_type": "stream",
     "text": [
      "[[2 3]\n",
      " [5 6]]\n",
      "[[4 5]\n",
      " [7 8]]\n"
     ]
    }
   ],
   "source": [
    "arr2d = np.array([[1, 2, 3], [4, 5, 6], [7, 8, 9]])\n",
    "print(arr2d[:2, 1:3])  # Lấy các phần tử từ hàng 0-1 và cột 1-2\n",
    "print(arr2d[1:, :2])   # Lấy các phần tử từ hàng 1 đến hết và cột 0-1\n"
   ]
  },
  {
   "cell_type": "markdown",
   "metadata": {},
   "source": [
    "2.3/ Slicing với bước nhảy:"
   ]
  },
  {
   "cell_type": "code",
   "execution_count": 40,
   "metadata": {},
   "outputs": [
    {
     "name": "stdout",
     "output_type": "stream",
     "text": [
      "[10 30 50]\n"
     ]
    }
   ],
   "source": [
    "arr = np.array([10, 20, 30, 40, 50])\n",
    "print(arr[::2])  # Lấy các phần tử cách nhau 2 vị trí\n"
   ]
  },
  {
   "cell_type": "markdown",
   "metadata": {},
   "source": [
    "2.4/ Truy cập hoặc sửa đổi từng phần tử thông qua slicing:"
   ]
  },
  {
   "cell_type": "code",
   "execution_count": 41,
   "metadata": {},
   "outputs": [
    {
     "name": "stdout",
     "output_type": "stream",
     "text": [
      "[ 10 100 100 100  50]\n"
     ]
    }
   ],
   "source": [
    "arr = np.array([10, 20, 30, 40, 50])\n",
    "arr[1:4] = 100  # Gán giá trị 100 cho các phần tử từ chỉ số 1 đến 3\n",
    "print(arr)\n"
   ]
  },
  {
   "cell_type": "markdown",
   "metadata": {},
   "source": [
    "2.5/ Slicing mảng là tham chiếu:\n",
    "\n",
    "Một điểm quan trọng trong NumPy là khi bạn slicing một mảng, bạn sẽ nhận được một tham chiếu đến mảng gốc, không phải là một bản sao. Điều này có nghĩa là khi bạn thay đổi lát cắt, mảng gốc cũng sẽ thay đổi"
   ]
  },
  {
   "cell_type": "code",
   "execution_count": 62,
   "metadata": {},
   "outputs": [
    {
     "name": "stdout",
     "output_type": "stream",
     "text": [
      "[10 10 10]\n",
      "[ 1 10 10 10  5]\n"
     ]
    }
   ],
   "source": [
    "arr = np.array([1, 2, 3, 4, 5])\n",
    "slice_arr = arr[1:4]\n",
    "slice_arr[:] = 10  # Thay đổi tất cả phần tử trong lát cắt\n",
    "print(slice_arr)\n",
    "print(arr)  # Mảng gốc cũng thay đổi\n"
   ]
  },
  {
   "cell_type": "markdown",
   "metadata": {},
   "source": [
    "\n",
    "BOOLEAN INDEXING\n",
    "\n",
    "Boolean indexing là một cách mạnh mẽ để lọc và truy cập các phần tử trong mảng NumPy dựa trên các điều kiện logic. Với boolean indexing, bạn có thể tạo ra một mảng con chứa các phần tử thỏa mãn điều kiện đã cho"
   ]
  },
  {
   "cell_type": "markdown",
   "metadata": {},
   "source": [
    "1.1/ Bạn có thể sử dụng một điều kiện để tạo ra một mảng boolean, trong đó mỗi phần tử là True hoặc False tương ứng với việc phần tử trong mảng gốc có thỏa mãn điều kiện hay không."
   ]
  },
  {
   "cell_type": "code",
   "execution_count": 43,
   "metadata": {},
   "outputs": [
    {
     "name": "stdout",
     "output_type": "stream",
     "text": [
      "[False False False  True  True  True]\n"
     ]
    }
   ],
   "source": [
    "arr = np.array([1, 2, 3, 4, 5, 6])\n",
    "bool_arr = arr > 3  # Điều kiện: lớn hơn 3\n",
    "print(bool_arr)\n"
   ]
  },
  {
   "cell_type": "markdown",
   "metadata": {},
   "source": [
    "1.2/ Sau đó, bạn có thể sử dụng mảng boolean này để lấy các phần tử từ mảng gốc mà thỏa mãn điều kiện."
   ]
  },
  {
   "cell_type": "code",
   "execution_count": 44,
   "metadata": {},
   "outputs": [
    {
     "name": "stdout",
     "output_type": "stream",
     "text": [
      "[4 5 6]\n"
     ]
    }
   ],
   "source": [
    "result = arr[bool_arr]\n",
    "print(result)\n"
   ]
  },
  {
   "cell_type": "markdown",
   "metadata": {},
   "source": [
    "1.3/ Bạn có thể không cần phải tạo mảng boolean riêng, mà có thể áp dụng trực tiếp điều kiện vào mảng."
   ]
  },
  {
   "cell_type": "code",
   "execution_count": 45,
   "metadata": {},
   "outputs": [
    {
     "name": "stdout",
     "output_type": "stream",
     "text": [
      "[4 5 6]\n"
     ]
    }
   ],
   "source": [
    "result = arr[arr > 3]  # Lấy tất cả các phần tử lớn hơn 3\n",
    "print(result)\n"
   ]
  },
  {
   "cell_type": "markdown",
   "metadata": {},
   "source": [
    "2./ Kết hợp nhiều điều kiện:"
   ]
  },
  {
   "cell_type": "code",
   "execution_count": 46,
   "metadata": {},
   "outputs": [
    {
     "name": "stdout",
     "output_type": "stream",
     "text": [
      "[3 4]\n"
     ]
    }
   ],
   "source": [
    "result = arr[(arr > 2) & (arr < 5)]  # Lấy phần tử lớn hơn 2 và nhỏ hơn 5\n",
    "print(result)\n"
   ]
  },
  {
   "cell_type": "code",
   "execution_count": 47,
   "metadata": {},
   "outputs": [
    {
     "name": "stdout",
     "output_type": "stream",
     "text": [
      "[1 2 6]\n"
     ]
    }
   ],
   "source": [
    "result = arr[(arr < 3) | (arr > 5)]  # Lấy phần tử nhỏ hơn 3 hoặc lớn hơn 5\n",
    "print(result)\n"
   ]
  },
  {
   "cell_type": "code",
   "execution_count": 48,
   "metadata": {},
   "outputs": [
    {
     "name": "stdout",
     "output_type": "stream",
     "text": [
      "[1 2 3]\n"
     ]
    }
   ],
   "source": [
    "result = arr[~(arr > 3)]  # Lấy phần tử không lớn hơn 3 (phủ định của điều kiện arr > 3)\n",
    "print(result)\n"
   ]
  },
  {
   "cell_type": "markdown",
   "metadata": {},
   "source": [
    "3./ Boolean indexing cũng hoạt động với mảng nhiều chiều."
   ]
  },
  {
   "cell_type": "code",
   "execution_count": 49,
   "metadata": {},
   "outputs": [
    {
     "name": "stdout",
     "output_type": "stream",
     "text": [
      "[[False False False]\n",
      " [False False  True]\n",
      " [ True  True  True]]\n"
     ]
    }
   ],
   "source": [
    "arr2d = np.array([[1, 2, 3], [4, 5, 6], [7, 8, 9]])\n",
    "bool_arr2d = arr2d > 5\n",
    "print(bool_arr2d)\n"
   ]
  },
  {
   "cell_type": "code",
   "execution_count": 50,
   "metadata": {},
   "outputs": [
    {
     "name": "stdout",
     "output_type": "stream",
     "text": [
      "[6 7 8 9]\n"
     ]
    }
   ],
   "source": [
    "result = arr2d[bool_arr2d]\n",
    "print(result)\n"
   ]
  },
  {
   "cell_type": "markdown",
   "metadata": {},
   "source": [
    "4./ Thay đổi giá trị với Boolean indexing"
   ]
  },
  {
   "cell_type": "code",
   "execution_count": 51,
   "metadata": {},
   "outputs": [
    {
     "name": "stdout",
     "output_type": "stream",
     "text": [
      "[ 1  2  3 99 99 99]\n"
     ]
    }
   ],
   "source": [
    "arr[arr > 3] = 99  # Đổi tất cả các phần tử lớn hơn 3 thành 99\n",
    "print(arr)\n"
   ]
  },
  {
   "cell_type": "markdown",
   "metadata": {},
   "source": [
    "5./ HÀM np.where\n",
    "\n",
    "np.where(condition, x, y)\n",
    "\n",
    "condition: Điều kiện boolean (True/False). Mảng này sẽ được tạo ra từ một điều kiện nào đó, ví dụ như arr > 3.\n",
    "x: Giá trị thay thế cho các phần tử thỏa mãn điều kiện (True).\n",
    "y: Giá trị thay thế cho các phần tử không thỏa mãn điều kiện (False)"
   ]
  },
  {
   "cell_type": "code",
   "execution_count": 52,
   "metadata": {},
   "outputs": [
    {
     "name": "stdout",
     "output_type": "stream",
     "text": [
      "[ 1  2  3 10 10 10]\n"
     ]
    }
   ],
   "source": [
    "arr = np.array([1, 2, 3, 4, 5, 6])\n",
    "result = np.where(arr > 3, 10, arr) #các giá trị lớn hơn 3 thay bằng 10, nếu không phải giữ nguyên\n",
    "print(result)"
   ]
  },
  {
   "cell_type": "code",
   "execution_count": 53,
   "metadata": {},
   "outputs": [
    {
     "name": "stdout",
     "output_type": "stream",
     "text": [
      "[-1 -1 -1 10 10 10]\n"
     ]
    }
   ],
   "source": [
    "arr = np.array([1, 2, 3, 4, 5, 6])\n",
    "result = np.where(arr > 3, 10, -1) #các giá trị lớn hơn 3 thay bằng 10, nếu không phải thay = -1\n",
    "print(result)\n"
   ]
  },
  {
   "cell_type": "code",
   "execution_count": 54,
   "metadata": {},
   "outputs": [
    {
     "name": "stdout",
     "output_type": "stream",
     "text": [
      "[[  1   2   3]\n",
      " [  4 100 100]]\n"
     ]
    }
   ],
   "source": [
    "arr2d = np.array([[1, 2, 3], [4, 5, 6]])\n",
    "result = np.where(arr2d > 4, 100, arr2d) # cũng hoạt động với mảng 2 chiều\n",
    "print(result)\n"
   ]
  },
  {
   "cell_type": "markdown",
   "metadata": {},
   "source": [
    "Bạn cũng có thể sử dụng np.where để thay thế các giá trị không hợp lệ, chẳng hạn như NaN hoặc inf, bằng giá trị mặc định."
   ]
  },
  {
   "cell_type": "code",
   "execution_count": 55,
   "metadata": {},
   "outputs": [
    {
     "name": "stdout",
     "output_type": "stream",
     "text": [
      "[1. 2. 0. 4. 0. 6.]\n"
     ]
    }
   ],
   "source": [
    "arr = np.array([1, 2, np.nan, 4, np.nan, 6])\n",
    "result = np.where(np.isnan(arr), 0, arr)\n",
    "print(result)\n",
    "#Sử dụng np.isnan(arr) để kiểm tra xem phần tử nào là NaN.\n",
    "#Các giá trị NaN sẽ được thay bằng 0, còn các giá trị khác giữ nguyên"
   ]
  },
  {
   "cell_type": "code",
   "execution_count": 56,
   "metadata": {},
   "outputs": [
    {
     "name": "stdout",
     "output_type": "stream",
     "text": [
      "[ 1  2 20 20  5  6]\n"
     ]
    }
   ],
   "source": [
    "arr = np.array([1, 2, 3, 4, 5, 6])\n",
    "result = np.where((arr > 2) & (arr < 5), 20, arr) #kết hợp nhiều điều kiện\n",
    "print(result)\n"
   ]
  },
  {
   "cell_type": "markdown",
   "metadata": {},
   "source": [
    "FANCY INDEXING\n",
    "Fancy indexing trong NumPy là một phương pháp mạnh mẽ để trích xuất dữ liệu từ mảng bằng cách sử dụng các mảng chỉ số (index arrays). Thay vì sử dụng các chỉ số đơn lẻ hoặc khoảng (slicing) như thông thường, bạn có thể chọn nhiều phần tử cùng một lúc bằng cách cung cấp một danh sách các chỉ số."
   ]
  },
  {
   "cell_type": "code",
   "execution_count": 57,
   "metadata": {},
   "outputs": [
    {
     "name": "stdout",
     "output_type": "stream",
     "text": [
      "[0 1 2 3 4 5 6 7 8 9]\n",
      "[1 3 5]\n"
     ]
    }
   ],
   "source": [
    "arr = np.arange(10)  # Tạo mảng từ 0 đến 9\n",
    "print(arr)\n",
    "\n",
    "# Sử dụng fancy indexing để lấy các phần tử tại chỉ số 1, 3, 5\n",
    "selected_elements = arr[[1, 3, 5]]\n",
    "print(selected_elements)"
   ]
  },
  {
   "cell_type": "code",
   "execution_count": 58,
   "metadata": {},
   "outputs": [
    {
     "name": "stdout",
     "output_type": "stream",
     "text": [
      "[2 6 7]\n"
     ]
    }
   ],
   "source": [
    "arr2d = np.array([[1, 2, 3], \n",
    "                  [4, 5, 6], \n",
    "                  [7, 8, 9]])\n",
    "\n",
    "# Chọn phần tử tại vị trí [0, 1], [1, 2], và [2, 0]\n",
    "result = arr2d[[0, 1, 2], [1, 2, 0]]\n",
    "print(result)\n"
   ]
  },
  {
   "cell_type": "code",
   "execution_count": 59,
   "metadata": {},
   "outputs": [
    {
     "name": "stdout",
     "output_type": "stream",
     "text": [
      "[ 0 -1  2 -1  4 -1  6  7  8  9]\n"
     ]
    }
   ],
   "source": [
    "arr = np.arange(10)\n",
    "\n",
    "# Gán giá trị -1 cho các phần tử tại chỉ số 1, 3, 5\n",
    "arr[[1, 3, 5]] = -1\n",
    "print(arr)\n"
   ]
  },
  {
   "cell_type": "markdown",
   "metadata": {},
   "source": [
    "TRANSPOSING ARRAYS (hoán vị mảng)\n",
    "\n",
    "Transposing là quá trình hoán đổi các trục của một mảng. Đối với một mảng 2D, nó tương đương với việc hoán đổi hàng thành cột và ngược lại."
   ]
  },
  {
   "cell_type": "markdown",
   "metadata": {},
   "source": [
    "1./ Ví dụ về mảng 2D"
   ]
  },
  {
   "cell_type": "code",
   "execution_count": 60,
   "metadata": {},
   "outputs": [
    {
     "name": "stdout",
     "output_type": "stream",
     "text": [
      "[[1 4]\n",
      " [2 5]\n",
      " [3 6]]\n"
     ]
    }
   ],
   "source": [
    "arr = np.array([[1, 2, 3], \n",
    "                [4, 5, 6]])\n",
    "\n",
    "# Chuyển vị mảng\n",
    "arr_transposed = arr.T\n",
    "print(arr_transposed)"
   ]
  },
  {
   "cell_type": "markdown",
   "metadata": {},
   "source": [
    "1.2/ Ví dụ về mảng nhiều chiều \n",
    "\n",
    "ối với mảng nhiều chiều (từ 3 chiều trở lên), phương thức .transpose() có thể sắp xếp lại các trục theo bất kỳ thứ tự nào bạn chỉ định."
   ]
  },
  {
   "cell_type": "code",
   "execution_count": 61,
   "metadata": {},
   "outputs": [
    {
     "name": "stdout",
     "output_type": "stream",
     "text": [
      "[[[ 1  2]\n",
      "  [ 3  4]\n",
      "  [ 5  6]]\n",
      "\n",
      " [[ 7  8]\n",
      "  [ 9 10]\n",
      "  [11 12]]]\n",
      "--------------------\n",
      "[[[ 1  2]\n",
      "  [ 7  8]]\n",
      "\n",
      " [[ 3  4]\n",
      "  [ 9 10]]\n",
      "\n",
      " [[ 5  6]\n",
      "  [11 12]]]\n"
     ]
    }
   ],
   "source": [
    "arr3d = np.arange(1,13).reshape(2, 3, 2)  #lớp,hàng,cột\n",
    "print(arr3d)\n",
    "print(\"-\" * 20)\n",
    "# Chuyển vị mảng theo thứ tự trục mới\n",
    "arr_transposed = arr3d.transpose(1, 0, 2)\n",
    "print(arr_transposed)\n"
   ]
  },
  {
   "cell_type": "markdown",
   "metadata": {},
   "source": [
    "demo git hup"
   ]
  },
  {
   "cell_type": "code",
   "execution_count": null,
   "metadata": {},
   "outputs": [],
   "source": []
  }
 ],
 "metadata": {
  "kernelspec": {
   "display_name": "venv",
   "language": "python",
   "name": "python3"
  },
  "language_info": {
   "codemirror_mode": {
    "name": "ipython",
    "version": 3
   },
   "file_extension": ".py",
   "mimetype": "text/x-python",
   "name": "python",
   "nbconvert_exporter": "python",
   "pygments_lexer": "ipython3",
   "version": "3.12.5"
  }
 },
 "nbformat": 4,
 "nbformat_minor": 2
}
